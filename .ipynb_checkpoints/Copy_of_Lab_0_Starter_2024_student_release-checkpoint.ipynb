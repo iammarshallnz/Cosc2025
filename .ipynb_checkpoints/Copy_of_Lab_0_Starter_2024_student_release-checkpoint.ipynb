{
  "cells": [
    {
      "cell_type": "markdown",
      "metadata": {
        "id": "GTwDFnjHMk25"
      },
      "source": [
        "\n",
        "# DATA301 - Lab 0\n",
        "## Dask Tutorial (first part)\n",
        "\n",
        "In this tutorial, you will learn how to use [Dask](https://www.dask.org/) in a notebook enviroment.\n",
        "\n",
        "Adapted with permission for use in DATA301. Additional credits to [Tiziano Piccardi](http://piccardi.me/) from his Applied Data Analysis class at EPFL and [Michele Catasta](https://www.linkedin.com/in/pirroh/) from Stanford's CS246.\n",
        "\n",
        "*Note: do not change the existing asserts otherwise you will not know if your code works for our tests. You are welcome to add your own asserts in new cells.*"
      ]
    },
    {
      "cell_type": "markdown",
      "metadata": {
        "id": "eXQzA01OS_yQ"
      },
      "source": [
        "## Setup"
      ]
    },
    {
      "cell_type": "markdown",
      "metadata": {
        "id": "AbYZoVVWOZA5"
      },
      "source": [
        "The online Colab environment already has the Dask library installed but we'll just make sure, so we ask pip to install the dask library on colab."
      ]
    },
    {
      "cell_type": "code",
      "execution_count": null,
      "metadata": {
        "colab": {
          "base_uri": "https://localhost:8080/"
        },
        "id": "dhzk3GE6S9RC",
        "outputId": "11224650-4da9-4326-8f22-9bbdb965b800"
      },
      "outputs": [
        {
          "name": "stdout",
          "output_type": "stream",
          "text": [
            "Requirement already satisfied: dask in /usr/local/lib/python3.11/dist-packages (2024.10.0)\n",
            "Requirement already satisfied: click>=8.1 in /usr/local/lib/python3.11/dist-packages (from dask) (8.1.8)\n",
            "Requirement already satisfied: cloudpickle>=3.0.0 in /usr/local/lib/python3.11/dist-packages (from dask) (3.1.1)\n",
            "Requirement already satisfied: fsspec>=2021.09.0 in /usr/local/lib/python3.11/dist-packages (from dask) (2024.10.0)\n",
            "Requirement already satisfied: packaging>=20.0 in /usr/local/lib/python3.11/dist-packages (from dask) (24.2)\n",
            "Requirement already satisfied: partd>=1.4.0 in /usr/local/lib/python3.11/dist-packages (from dask) (1.4.2)\n",
            "Requirement already satisfied: pyyaml>=5.3.1 in /usr/local/lib/python3.11/dist-packages (from dask) (6.0.2)\n",
            "Requirement already satisfied: toolz>=0.10.0 in /usr/local/lib/python3.11/dist-packages (from dask) (0.12.1)\n",
            "Requirement already satisfied: importlib-metadata>=4.13.0 in /usr/local/lib/python3.11/dist-packages (from dask) (8.6.1)\n",
            "Requirement already satisfied: zipp>=3.20 in /usr/local/lib/python3.11/dist-packages (from importlib-metadata>=4.13.0->dask) (3.21.0)\n",
            "Requirement already satisfied: locket in /usr/local/lib/python3.11/dist-packages (from partd>=1.4.0->dask) (1.0.0)\n"
          ]
        }
      ],
      "source": [
        "!pip install dask"
      ]
    },
    {
      "cell_type": "code",
      "execution_count": null,
      "metadata": {
        "colab": {
          "base_uri": "https://localhost:8080/"
        },
        "id": "lT77ojO4FfS0",
        "outputId": "3e210dc7-5a90-4288-a09e-15f50ebe1587"
      },
      "outputs": [
        {
          "data": {
            "text/plain": [
              "('Bombing_Operations.parquet', <http.client.HTTPMessage at 0x790215c4ae90>)"
            ]
          },
          "execution_count": 11,
          "metadata": {},
          "output_type": "execute_result"
        }
      ],
      "source": [
        "import urllib.request\n",
        "url = 'https://drive.google.com/uc?export=download&confirm=t&id=1L_Vg09a788zFqirlQC2KFo_FicXUem7t'\n",
        "filename = 'Bombing_Operations.parquet'\n",
        "urllib.request.urlretrieve(url, filename)"
      ]
    },
    {
      "cell_type": "markdown",
      "metadata": {
        "id": "vg6KpvpTWfnr"
      },
      "source": [
        "## Warm up exercises (complete the <FILL IN> parts)\n",
        "These exercises don't use a dataset. Instead they create simple Dask array structures.\n",
        "\n",
        "Let us first create a small array that we will manipulate. For realistic applications, data will most likely be loaded from a file, from a data stream, or generated with special Dask functions. We are transitioning from Python though, so we will show how this can be done.\n"
      ]
    },
    {
      "cell_type": "code",
      "execution_count": null,
      "metadata": {
        "colab": {
          "base_uri": "https://localhost:8080/"
        },
        "id": "Hi1E1dh5WZeI",
        "outputId": "afc49185-ff65-44ba-9d52-65d3948780fa"
      },
      "outputs": [
        {
          "name": "stdout",
          "output_type": "stream",
          "text": [
            "499500\n",
            "499500\n",
            "499500\n"
          ]
        }
      ],
      "source": [
        "#import the dask and bag library\n",
        "import dask\n",
        "import dask.bag as db\n",
        "import math\n",
        "\n",
        "# First, let's create some simple data, say the integers from 1 to 1000.\n",
        "# We use the python command range to do this.\n",
        "# Note that in practice our data will most likely come from data files.\n",
        "A = range(1000)\n",
        "\n",
        "# Let us start with a simple task of computing the sum of the values in the array:\n",
        "print(sum(A))\n",
        "# Because A is in memory in our Google Colab python instance and sum is a built in python function\n",
        "# this computation is not distributed and instead runs sequentially.\n",
        "\n",
        "# Now let us distribute this data across our processes in a dask bag\n",
        "bA = db.from_sequence(A)\n",
        "\n",
        "# To sum our distributed array, we call the reduce function with the sum function\n",
        "print(bA.reduction(sum, sum).compute())\n",
        "# Because the data structure bA was distributed across the available processes, the computation for reduction was also distributed.\n",
        "\n",
        "# Because summing along an array axis is very common, we could simply call the built-in function that does the reduction efficiently\n",
        "print(bA.sum().compute())\n",
        "\n"
      ]
    },
    {
      "cell_type": "markdown",
      "metadata": {
        "id": "f9MYhJfjZqUA"
      },
      "source": [
        "###Problem 1 (5 points)\n",
        "Now that we have seen a simple example, write **sequential** code that implements the example from the lecture\n",
        "\n",
        "![image.png](data:image/png;base64,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)"
      ]
    },
    {
      "cell_type": "code",
      "execution_count": null,
      "metadata": {
        "id": "3pmRbY0lZmUV"
      },
      "outputs": [],
      "source": [
        "def sum_sqrts(A):\n",
        "    # YOUR CODE HERE\n",
        "\n",
        "    return sum([math.sqrt(x) for x in A])\n",
        "assert sum_sqrts([1,4,9,16]) == 10"
      ]
    },
    {
      "cell_type": "code",
      "execution_count": null,
      "metadata": {
        "id": "6NIq1WaHsHrG"
      },
      "outputs": [],
      "source": [
        "assert sum_sqrts([1,4,9,16]) == 10"
      ]
    },
    {
      "cell_type": "markdown",
      "metadata": {
        "id": "iqUig4Oian8m"
      },
      "source": [
        "### Problem 2 (5 points)\n",
        "Now write a *parallel* version of the code using Dask. You will need to use both map and reduction functions (see https://docs.dask.org/en/stable/bag-api.html).\n"
      ]
    },
    {
      "cell_type": "code",
      "execution_count": null,
      "metadata": {
        "id": "26mfNm2Ua9NI"
      },
      "outputs": [],
      "source": [
        "#note: bA is assumed to be a dask bag already, see test case\n",
        "def sum_sqrts_parallel(bA):\n",
        "    # YOUR CODE HERE\n",
        "\n",
        "    return bA.map(lambda x: math.sqrt(x)).reduction(sum,sum).compute()\n",
        "assert sum_sqrts_parallel(db.from_sequence([1,4,9,16])) == 10"
      ]
    },
    {
      "cell_type": "code",
      "execution_count": null,
      "metadata": {
        "id": "P20DQ5KOsHrG"
      },
      "outputs": [],
      "source": [
        "assert sum_sqrts_parallel(db.from_sequence([1,4,9,16])) == 10"
      ]
    },
    {
      "cell_type": "markdown",
      "metadata": {
        "id": "5mxZPnvsbg3G"
      },
      "source": [
        "### Problem 3 (10 points)"
      ]
    },
    {
      "cell_type": "code",
      "execution_count": null,
      "metadata": {
        "colab": {
          "base_uri": "https://localhost:8080/"
        },
        "id": "6OrCF47SbjfR",
        "outputId": "cfd1f130-5219-4029-ec4e-504d8a7c485f"
      },
      "outputs": [
        {
          "name": "stdout",
          "output_type": "stream",
          "text": [
            "[[0], [0, 1], [0, 1, 2], [0, 1, 2, 3], [0, 1, 2, 3, 4]]\n",
            "dask.bag<flatten, npartitions=5>\n",
            "(0,)\n",
            "15\n",
            "(0, 0, 1)\n",
            "dask.bag<repartition, npartitions=1>\n",
            "(0, 0, 1)\n",
            "15\n"
          ]
        }
      ],
      "source": [
        "# Let us quickly review some basic transformations available within Dask.\n",
        "\n",
        "# Lets create a small list of numbers to play with.\n",
        "nums = db.from_sequence([1,2,3,4,5])\n",
        "\n",
        "# retain elements passing a predicate\n",
        "# this is a lambda expression -- often used to be more concise than a full function declaration\n",
        "evens = nums.filter(lambda x: x % 2 == 0)\n",
        "# (this is equivalent to the lambda expression but uses a named function)\n",
        "def is_even(x):\n",
        "  return x % 2 == 0\n",
        "evens = nums.filter(is_even)\n",
        "\n",
        "# map each element\n",
        "num_ranges = nums.map(lambda x: list(range(x)))\n",
        "\n",
        "# retrieve bag contents as a local collection - in this case a list of lists\n",
        "print(num_ranges.compute())\n",
        "\n",
        "# flatten\n",
        "num_ranges_flat = num_ranges.flatten()\n",
        "\n",
        "print(num_ranges_flat)\n",
        "\n",
        "# return first 3 elements, note that this only gives back 1 (and a warning)!\n",
        "print(num_ranges_flat.take(3))\n",
        "\n",
        "# count number of elements\n",
        "print(num_ranges_flat.count().compute())\n",
        "\n",
        "# what happened? the elements are split into partitions and take only looks at\n",
        "#  one partition by default. Because our data originally was 5 nested lists,\n",
        "#  we have 5 partitions with the data from each list in each partition.\n",
        "\n",
        "# to take the first 3 from all partitions:\n",
        "print(num_ranges_flat.take(3, npartitions=-1))\n",
        "\n",
        "# or we could repartition (but that is more expensive as it moves some things in memory)\n",
        "num_ranges_flat_one_partition = num_ranges_flat.repartition(1)\n",
        "print(num_ranges_flat_one_partition)\n",
        "print(num_ranges_flat_one_partition.take(3))\n",
        "print(num_ranges_flat_one_partition.count().compute())\n",
        "\n"
      ]
    },
    {
      "cell_type": "markdown",
      "metadata": {
        "id": "YpCWXdSGcjYr"
      },
      "source": [
        "In the code box below. Write a function that consumes a bag of numeric values and produces a bag with that many copies of each value.\n",
        "\n",
        "**note:** your function should not convert the bag to a local data structure such as a Python list -- you need to use map/reduction/flatten.\n",
        "\n",
        "Some test cases:\n",
        "```\n",
        "print(list(repeat_nums(db.from_sequence([1, 3, 4, 2, 1]))))\n",
        "> [1, 3, 3, 3, 4, 4, 4, 4, 2, 2, 1]\n",
        "\n",
        "print(list(repeat_nums(db.from_sequence([5, 2, 6, 3, 1]))))\n",
        "> [5, 5, 5, 5, 5, 2, 2, 6, 6, 6, 6, 6, 6, 3, 3, 3, 1]\n",
        "```\n",
        "Hint: In python we can repeat using the overloaded multiplier on lists\n",
        "\n",
        "```\n",
        ">>> [5] * 4\n",
        "[5, 5, 5, 5]\n",
        "```\n",
        "\n",
        "\n"
      ]
    },
    {
      "cell_type": "code",
      "execution_count": null,
      "metadata": {
        "id": "r44oZI2Ach97"
      },
      "outputs": [],
      "source": [
        "def repeat_nums(b_nums):\n",
        "    # YOUR CODE HERE\n",
        "    return b_nums.map(lambda x: [x] * x).flatten()"
      ]
    },
    {
      "cell_type": "code",
      "execution_count": null,
      "metadata": {
        "colab": {
          "base_uri": "https://localhost:8080/"
        },
        "id": "4OJcep05ov9D",
        "outputId": "b47d1e6c-95da-44d7-cc05-f6809ca94fda"
      },
      "outputs": [
        {
          "name": "stdout",
          "output_type": "stream",
          "text": [
            "[1, 3, 3, 3, 4, 4, 4, 4, 2, 2, 1]\n",
            "[5, 5, 5, 5, 5, 2, 2, 6, 6, 6, 6, 6, 6, 3, 3, 3, 1]\n"
          ]
        }
      ],
      "source": [
        "print(list(repeat_nums(db.from_sequence([1, 3, 4, 2, 1]))))\n",
        "print(list(repeat_nums(db.from_sequence([5, 2, 6, 3, 1]))))"
      ]
    },
    {
      "cell_type": "code",
      "execution_count": null,
      "metadata": {
        "id": "rsubxYxbsHrH"
      },
      "outputs": [],
      "source": [
        "assert list(repeat_nums(db.from_sequence([1, 3, 4, 2, 1]))) == [1, 3, 3, 3, 4, 4, 4, 4, 2, 2, 1]\n",
        "assert list(repeat_nums(db.from_sequence([5, 2, 6, 3, 1]))) == [5, 5, 5, 5, 5, 2, 2, 6, 6, 6, 6, 6, 6, 3, 3, 3, 1]"
      ]
    },
    {
      "cell_type": "markdown",
      "metadata": {
        "id": "gewv-lKMSagI"
      },
      "source": [
        "## Dataset exercises: The Vietnam War\n",
        "\n",
        "For the following exercises you will write parallel code in PySpark to extract some data from a small dataset of historical data from the Vietname War.\n",
        "\n",
        "**Pres. Johnson**: _What do you think about this Vietnam thing? I’d like to hear you talk a little bit._\n",
        "\n",
        "**Sen. Russell**: _Well, frankly, Mr. President, it’s the damn worse mess that I ever saw, and I don’t like to brag and I never have been right many times in my life, but I knew that we were going to get into this sort of mess when we went in there._\n",
        "\n",
        "May 27, 1964\n",
        "\n",
        "![banner](https://raw.githubusercontent.com/epfl-ada/2019/c17af0d3c73f11cb083717b7408fedd86245dc4d/Tutorials/04%20-%20Scaling%20Up/img/banner.jpg)"
      ]
    },
    {
      "cell_type": "markdown",
      "metadata": {
        "id": "skjUv84VSagJ"
      },
      "source": [
        "----\n",
        "\n",
        "The Vietnam War, also known as the Second Indochina War, and in Vietnam as the Resistance War Against America or simply the American War, was a conflict that occurred in Vietnam, Laos, and Cambodia from 1 November 1955 to the fall of Saigon on 30 April 1975. It was the second of the Indochina Wars and was officially fought between North Vietnam and the government of South Vietnam.\n",
        "\n",
        "**The dataset describes all the air force operations during the Vietnam War.**\n",
        "\n",
        "**Bombing_Operations**\n",
        "\n",
        "- AirCraft: _Aircraft model (example: EC-47)_\n",
        "- ContryFlyingMission: _Country_\n",
        "- MissionDate: _Date of the mission_\n",
        "- OperationSupported: _Supported War operation_ (example: [Operation Rolling Thunder](https://en.wikipedia.org/wiki/Operation_Rolling_Thunder))\n",
        "- PeriodOfDay: _Day or night_\n",
        "- TakeoffLocation: _Take off airport_\n",
        "- TimeOnTarget\n",
        "- WeaponType\n",
        "- WeaponsLoadedWeight\n",
        "\n",
        "**Dataset Information:**\n",
        "\n",
        "THOR is a painstakingly cultivated database of historic aerial bombings from World War I through Vietnam. It has 4,400,775 records. THOR has already proven useful in finding unexploded ordnance in Southeast Asia and improving Air Force combat tactics:\n",
        "https://www.kaggle.com/usaf/vietnam-war-bombing-operations\n",
        "\n",
        "If it didn't download earlier, you can manually [Get the dataset here](https://drive.google.com/file/d/1QXSn0Y7YHNY1P2ag4SPeYuCOPoJVtjzO/view?usp=drive_link). Just make sure to upload it to Colab."
      ]
    },
    {
      "cell_type": "markdown",
      "metadata": {
        "id": "VSWoULeWSagJ"
      },
      "source": [
        "###*Load the dataset*\n",
        "If you get an error, make sure your upload/download of the Bombing_Operations.parquet file has finished."
      ]
    },
    {
      "cell_type": "code",
      "execution_count": null,
      "metadata": {
        "colab": {
          "base_uri": "https://localhost:8080/"
        },
        "id": "XLyVPuLXSagK",
        "outputId": "a5a9444e-c540-46ee-e50c-d902ad28c2d0"
      },
      "outputs": [
        {
          "name": "stdout",
          "output_type": "stream",
          "text": [
            "{'ContryFlyingMission': 0, 'MissionDate': 1, 'AirCraft': 2, 'TakeoffLocation': 3, 'TimeOnTarget': 4, 'PeriodOfDay': 5, 'TargetCountry': 6, 'WeaponsLoadedWeight': 7, 'WeaponType': 8, 'OperationSupported': 9}\n"
          ]
        }
      ],
      "source": [
        "import dask.dataframe as df\n",
        "\n",
        "Bombing_Operations_df = df.read_parquet('Bombing_Operations.parquet')\n",
        "Bombing_Operations = Bombing_Operations_df.to_bag().persist()\n",
        "column_indices = dict([(k, i) for i, k in enumerate(Bombing_Operations_df.columns)])\n",
        "print(column_indices)"
      ]
    },
    {
      "cell_type": "code",
      "execution_count": null,
      "metadata": {
        "colab": {
          "base_uri": "https://localhost:8080/"
        },
        "id": "edo9Un_6MVYd",
        "outputId": "d777ccb0-c37e-4bef-fd56-f758698df1b3"
      },
      "outputs": [
        {
          "name": "stdout",
          "output_type": "stream",
          "text": [
            "(('UNITED STATES OF AMERICA', '1971-06-05', 'EC-47', 'TAN SON NHUT', 1005.0, 'D', 'CAMBODIA', 0, <NA>, <NA>),)\n"
          ]
        }
      ],
      "source": [
        "take_1 = Bombing_Operations.take(1)\n",
        "print(take_1)"
      ]
    },
    {
      "cell_type": "markdown",
      "metadata": {
        "id": "iu7n8KKjSagS"
      },
      "source": [
        "Note that take(1) returns a list of size 1 where the one record is itself a tuple with values at inidices. We've extracted a mapping of the key and indices called column_indices and can access a column from a record with a simple lookup.\n",
        "\n",
        "Here is a simple example:\n",
        "\n"
      ]
    },
    {
      "cell_type": "code",
      "execution_count": null,
      "metadata": {
        "colab": {
          "base_uri": "https://localhost:8080/",
          "height": 35
        },
        "id": "nwYZrwanSagT",
        "outputId": "bf015739-001d-45ae-9fb7-907524ba27ec"
      },
      "outputs": [
        {
          "data": {
            "application/vnd.google.colaboratory.intrinsic+json": {
              "type": "string"
            },
            "text/plain": [
              "'EC-47'"
            ]
          },
          "execution_count": 29,
          "metadata": {},
          "output_type": "execute_result"
        }
      ],
      "source": [
        "record = take_1[0]\n",
        "record[column_indices['AirCraft']]"
      ]
    },
    {
      "cell_type": "code",
      "execution_count": null,
      "metadata": {
        "colab": {
          "base_uri": "https://localhost:8080/"
        },
        "id": "VFoSCc0sQEbj",
        "outputId": "13ed1ba4-53d3-4cda-ebab-d3d6d545ef97"
      },
      "outputs": [
        {
          "data": {
            "text/plain": [
              "4400775"
            ]
          },
          "execution_count": 30,
          "metadata": {},
          "output_type": "execute_result"
        }
      ],
      "source": [
        "Bombing_Operations.count().compute()"
      ]
    },
    {
      "cell_type": "markdown",
      "metadata": {
        "id": "hkKWEEcLSagW"
      },
      "source": [
        "### Problem 4 (10 points): How many missions did the UNITED STATES OF AMERICA fly?\n",
        "\n",
        "In each of these problems you will need to use bag transformations and actions. You do not need to write full python functions, a lambda expression in each of the <FILL IN> blanks is sufficient. See https://docs.dask.org/en/stable/bag-api.html for a list of available bag transformations and actions and what they expect.\n",
        "\n",
        "From the Bombing_Operations count how many rows have ContryFlyingMission with the UNITED STATES OF AMERICA"
      ]
    },
    {
      "cell_type": "code",
      "execution_count": null,
      "metadata": {
        "colab": {
          "background_save": true,
          "base_uri": "https://localhost:8080/"
        },
        "id": "NZR5_BYhNrbF",
        "outputId": "9c27a248-f2a3-4dca-d8a0-9e4ebf6f4512"
      },
      "outputs": [
        {
          "name": "stderr",
          "output_type": "stream",
          "text": [
            "ERROR:root:Internal Python error in the inspect module.\n",
            "Below is the traceback from this internal error.\n",
            "\n",
            "ERROR:root:Internal Python error in the inspect module.\n",
            "Below is the traceback from this internal error.\n",
            "\n",
            "ERROR:root:Internal Python error in the inspect module.\n",
            "Below is the traceback from this internal error.\n",
            "\n"
          ]
        },
        {
          "name": "stdout",
          "output_type": "stream",
          "text": [
            "Traceback (most recent call last):\n",
            "  File \"/usr/local/lib/python3.11/dist-packages/IPython/core/interactiveshell.py\", line 3553, in run_code\n",
            "    exec(code_obj, self.user_global_ns, self.user_ns)\n",
            "  File \"<ipython-input-89-4b2b671d5a3d>\", line 4, in <cell line: 0>\n",
            "    print(data_filtered.count().compute())\n",
            "          ^^^^^^^^^^^^^^^^^^^^^^^^^^^^^^^\n",
            "  File \"/usr/local/lib/python3.11/dist-packages/dask/base.py\", line 372, in compute\n",
            "    (result,) = compute(self, traverse=False, **kwargs)\n",
            "                ^^^^^^^^^^^^^^^^^^^^^^^^^^^^^^^^^^^^^^^\n",
            "  File \"/usr/local/lib/python3.11/dist-packages/dask/base.py\", line 653, in compute\n",
            "    dsk = collections_to_dsk(collections, optimize_graph, **kwargs)\n",
            "          ^^^^^^^^^^^^^^^^^^^^^^^^^^^^^^^^^^^^^^^^^^^^^^^^^^^^^^^^^\n",
            "  File \"/usr/local/lib/python3.11/dist-packages/dask/base.py\", line 422, in collections_to_dsk\n",
            "    dsk = opt(dsk, keys, **kwargs)\n",
            "          ^^^^^^^^^^^^^^^^^^^^^^^^\n",
            "  File \"/usr/local/lib/python3.11/dist-packages/dask/bag/core.py\", line 149, in optimize\n",
            "    dsk2, dependencies = cull(dsk, keys)\n",
            "                         ^^^^^^^^^^^^^^^\n",
            "  File \"/usr/local/lib/python3.11/dist-packages/dask/optimization.py\", line 63, in cull\n",
            "    dependencies_k = get_dependencies(dsk, k, as_list=True)  # fuse needs lists\n",
            "                     ^^^^^^^^^^^^^^^^^^^^^^^^^^^^^^^^^^^^^^\n",
            "  File \"/usr/local/lib/python3.11/dist-packages/dask/core.py\", line 314, in get_dependencies\n",
            "    return keys_in_tasks(dsk, [arg], as_list=as_list)\n",
            "           ^^^^^^^^^^^^^^^^^^^^^^^^^^^^^^^^^^^^^^^^^^\n",
            "  File \"/usr/local/lib/python3.11/dist-packages/dask/core.py\", line None, in keys_in_tasks\n",
            "KeyboardInterrupt\n",
            "\n",
            "During handling of the above exception, another exception occurred:\n",
            "\n",
            "Traceback (most recent call last):\n",
            "  File \"/usr/local/lib/python3.11/dist-packages/IPython/core/interactiveshell.py\", line 2099, in showtraceback\n",
            "    stb = value._render_traceback_()\n",
            "          ^^^^^^^^^^^^^^^^^^^^^^^^\n",
            "AttributeError: 'KeyboardInterrupt' object has no attribute '_render_traceback_'\n",
            "\n",
            "During handling of the above exception, another exception occurred:\n",
            "\n",
            "Traceback (most recent call last):\n",
            "  File \"/usr/local/lib/python3.11/dist-packages/IPython/core/ultratb.py\", line 1101, in get_records\n",
            "    return _fixed_getinnerframes(etb, number_of_lines_of_context, tb_offset)\n",
            "           ^^^^^^^^^^^^^^^^^^^^^^^^^^^^^^^^^^^^^^^^^^^^^^^^^^^^^^^^^^^^^^^^^\n",
            "  File \"/usr/local/lib/python3.11/dist-packages/IPython/core/ultratb.py\", line 248, in wrapped\n",
            "    return f(*args, **kwargs)\n",
            "           ^^^^^^^^^^^^^^^^^^\n",
            "  File \"/usr/local/lib/python3.11/dist-packages/IPython/core/ultratb.py\", line 281, in _fixed_getinnerframes\n",
            "    records = fix_frame_records_filenames(inspect.getinnerframes(etb, context))\n",
            "                                          ^^^^^^^^^^^^^^^^^^^^^^^^^^^^^^^^^^^^\n",
            "  File \"/usr/lib/python3.11/inspect.py\", line 1739, in getinnerframes\n",
            "    traceback_info = getframeinfo(tb, context)\n",
            "                     ^^^^^^^^^^^^^^^^^^^^^^^^^\n",
            "  File \"/usr/lib/python3.11/inspect.py\", line 1686, in getframeinfo\n",
            "    start = lineno - 1 - context//2\n",
            "            ~~~~~~~^~~\n",
            "TypeError: unsupported operand type(s) for -: 'NoneType' and 'int'\n",
            "Traceback (most recent call last):\n",
            "  File \"/usr/local/lib/python3.11/dist-packages/IPython/core/interactiveshell.py\", line 3553, in run_code\n",
            "    exec(code_obj, self.user_global_ns, self.user_ns)\n",
            "  File \"<ipython-input-89-4b2b671d5a3d>\", line 4, in <cell line: 0>\n",
            "    print(data_filtered.count().compute())\n",
            "          ^^^^^^^^^^^^^^^^^^^^^^^^^^^^^^^\n",
            "  File \"/usr/local/lib/python3.11/dist-packages/dask/base.py\", line 372, in compute\n",
            "    (result,) = compute(self, traverse=False, **kwargs)\n",
            "                ^^^^^^^^^^^^^^^^^^^^^^^^^^^^^^^^^^^^^^^\n",
            "  File \"/usr/local/lib/python3.11/dist-packages/dask/base.py\", line 653, in compute\n",
            "    dsk = collections_to_dsk(collections, optimize_graph, **kwargs)\n",
            "          ^^^^^^^^^^^^^^^^^^^^^^^^^^^^^^^^^^^^^^^^^^^^^^^^^^^^^^^^^\n",
            "  File \"/usr/local/lib/python3.11/dist-packages/dask/base.py\", line 422, in collections_to_dsk\n",
            "    dsk = opt(dsk, keys, **kwargs)\n",
            "          ^^^^^^^^^^^^^^^^^^^^^^^^\n",
            "  File \"/usr/local/lib/python3.11/dist-packages/dask/bag/core.py\", line 149, in optimize\n",
            "    dsk2, dependencies = cull(dsk, keys)\n",
            "                         ^^^^^^^^^^^^^^^\n",
            "  File \"/usr/local/lib/python3.11/dist-packages/dask/optimization.py\", line 63, in cull\n",
            "    dependencies_k = get_dependencies(dsk, k, as_list=True)  # fuse needs lists\n",
            "                     ^^^^^^^^^^^^^^^^^^^^^^^^^^^^^^^^^^^^^^\n",
            "  File \"/usr/local/lib/python3.11/dist-packages/dask/core.py\", line 314, in get_dependencies\n",
            "    return keys_in_tasks(dsk, [arg], as_list=as_list)\n",
            "           ^^^^^^^^^^^^^^^^^^^^^^^^^^^^^^^^^^^^^^^^^^\n",
            "  File \"/usr/local/lib/python3.11/dist-packages/dask/core.py\", line None, in keys_in_tasks\n",
            "KeyboardInterrupt\n",
            "\n",
            "During handling of the above exception, another exception occurred:\n",
            "\n",
            "Traceback (most recent call last):\n",
            "  File \"/usr/local/lib/python3.11/dist-packages/IPython/core/interactiveshell.py\", line 2099, in showtraceback\n",
            "    stb = value._render_traceback_()\n",
            "          ^^^^^^^^^^^^^^^^^^^^^^^^\n",
            "AttributeError: 'KeyboardInterrupt' object has no attribute '_render_traceback_'\n",
            "\n",
            "During handling of the above exception, another exception occurred:\n",
            "\n",
            "Traceback (most recent call last):\n",
            "  File \"/usr/local/lib/python3.11/dist-packages/IPython/core/interactiveshell.py\", line 3473, in run_ast_nodes\n",
            "    if (await self.run_code(code, result,  async_=asy)):\n",
            "        ^^^^^^^^^^^^^^^^^^^^^^^^^^^^^^^^^^^^^^^^^^^^^^\n",
            "  File \"/usr/local/lib/python3.11/dist-packages/IPython/core/interactiveshell.py\", line 3575, in run_code\n",
            "    self.showtraceback(running_compiled_code=True)\n",
            "  File \"/usr/local/lib/python3.11/dist-packages/IPython/core/interactiveshell.py\", line 2101, in showtraceback\n",
            "    stb = self.InteractiveTB.structured_traceback(etype,\n",
            "          ^^^^^^^^^^^^^^^^^^^^^^^^^^^^^^^^^^^^^^^^^^^^^^\n",
            "  File \"/usr/local/lib/python3.11/dist-packages/IPython/core/ultratb.py\", line 1367, in structured_traceback\n",
            "    return FormattedTB.structured_traceback(\n",
            "           ^^^^^^^^^^^^^^^^^^^^^^^^^^^^^^^^^\n",
            "  File \"/usr/local/lib/python3.11/dist-packages/IPython/core/ultratb.py\", line 1267, in structured_traceback\n",
            "    return VerboseTB.structured_traceback(\n",
            "           ^^^^^^^^^^^^^^^^^^^^^^^^^^^^^^^\n",
            "  File \"/usr/local/lib/python3.11/dist-packages/IPython/core/ultratb.py\", line 1124, in structured_traceback\n",
            "    formatted_exception = self.format_exception_as_a_whole(etype, evalue, etb, number_of_lines_of_context,\n",
            "                          ^^^^^^^^^^^^^^^^^^^^^^^^^^^^^^^^^^^^^^^^^^^^^^^^^^^^^^^^^^^^^^^^^^^^^^^^^^^^^^^^\n",
            "  File \"/usr/local/lib/python3.11/dist-packages/IPython/core/ultratb.py\", line 1082, in format_exception_as_a_whole\n",
            "    last_unique, recursion_repeat = find_recursion(orig_etype, evalue, records)\n",
            "                                    ^^^^^^^^^^^^^^^^^^^^^^^^^^^^^^^^^^^^^^^^^^^\n",
            "  File \"/usr/local/lib/python3.11/dist-packages/IPython/core/ultratb.py\", line 382, in find_recursion\n",
            "    return len(records), 0\n",
            "           ^^^^^^^^^^^^\n",
            "TypeError: object of type 'NoneType' has no len()\n",
            "\n",
            "During handling of the above exception, another exception occurred:\n",
            "\n",
            "Traceback (most recent call last):\n",
            "  File \"/usr/local/lib/python3.11/dist-packages/IPython/core/interactiveshell.py\", line 2099, in showtraceback\n",
            "    stb = value._render_traceback_()\n",
            "          ^^^^^^^^^^^^^^^^^^^^^^^^\n",
            "AttributeError: 'TypeError' object has no attribute '_render_traceback_'\n",
            "\n",
            "During handling of the above exception, another exception occurred:\n",
            "\n",
            "Traceback (most recent call last):\n",
            "  File \"/usr/local/lib/python3.11/dist-packages/IPython/core/ultratb.py\", line 1101, in get_records\n",
            "    return _fixed_getinnerframes(etb, number_of_lines_of_context, tb_offset)\n",
            "           ^^^^^^^^^^^^^^^^^^^^^^^^^^^^^^^^^^^^^^^^^^^^^^^^^^^^^^^^^^^^^^^^^\n",
            "  File \"/usr/local/lib/python3.11/dist-packages/IPython/core/ultratb.py\", line 248, in wrapped\n",
            "    return f(*args, **kwargs)\n",
            "           ^^^^^^^^^^^^^^^^^^\n",
            "  File \"/usr/local/lib/python3.11/dist-packages/IPython/core/ultratb.py\", line 281, in _fixed_getinnerframes\n",
            "    records = fix_frame_records_filenames(inspect.getinnerframes(etb, context))\n",
            "                                          ^^^^^^^^^^^^^^^^^^^^^^^^^^^^^^^^^^^^\n",
            "  File \"/usr/lib/python3.11/inspect.py\", line 1739, in getinnerframes\n",
            "    traceback_info = getframeinfo(tb, context)\n",
            "                     ^^^^^^^^^^^^^^^^^^^^^^^^^\n",
            "  File \"/usr/lib/python3.11/inspect.py\", line 1686, in getframeinfo\n",
            "    start = lineno - 1 - context//2\n",
            "            ~~~~~~~^~~\n",
            "TypeError: unsupported operand type(s) for -: 'NoneType' and 'int'\n",
            "Traceback (most recent call last):\n",
            "  File \"/usr/local/lib/python3.11/dist-packages/IPython/core/interactiveshell.py\", line 3553, in run_code\n",
            "    exec(code_obj, self.user_global_ns, self.user_ns)\n",
            "  File \"<ipython-input-89-4b2b671d5a3d>\", line 4, in <cell line: 0>\n",
            "    print(data_filtered.count().compute())\n",
            "          ^^^^^^^^^^^^^^^^^^^^^^^^^^^^^^^\n",
            "  File \"/usr/local/lib/python3.11/dist-packages/dask/base.py\", line 372, in compute\n",
            "    (result,) = compute(self, traverse=False, **kwargs)\n",
            "                ^^^^^^^^^^^^^^^^^^^^^^^^^^^^^^^^^^^^^^^\n",
            "  File \"/usr/local/lib/python3.11/dist-packages/dask/base.py\", line 653, in compute\n",
            "    dsk = collections_to_dsk(collections, optimize_graph, **kwargs)\n",
            "          ^^^^^^^^^^^^^^^^^^^^^^^^^^^^^^^^^^^^^^^^^^^^^^^^^^^^^^^^^\n",
            "  File \"/usr/local/lib/python3.11/dist-packages/dask/base.py\", line 422, in collections_to_dsk\n",
            "    dsk = opt(dsk, keys, **kwargs)\n",
            "          ^^^^^^^^^^^^^^^^^^^^^^^^\n",
            "  File \"/usr/local/lib/python3.11/dist-packages/dask/bag/core.py\", line 149, in optimize\n",
            "    dsk2, dependencies = cull(dsk, keys)\n",
            "                         ^^^^^^^^^^^^^^^\n",
            "  File \"/usr/local/lib/python3.11/dist-packages/dask/optimization.py\", line 63, in cull\n",
            "    dependencies_k = get_dependencies(dsk, k, as_list=True)  # fuse needs lists\n",
            "                     ^^^^^^^^^^^^^^^^^^^^^^^^^^^^^^^^^^^^^^\n",
            "  File \"/usr/local/lib/python3.11/dist-packages/dask/core.py\", line 314, in get_dependencies\n",
            "    return keys_in_tasks(dsk, [arg], as_list=as_list)\n",
            "           ^^^^^^^^^^^^^^^^^^^^^^^^^^^^^^^^^^^^^^^^^^\n",
            "  File \"/usr/local/lib/python3.11/dist-packages/dask/core.py\", line None, in keys_in_tasks\n",
            "KeyboardInterrupt\n",
            "\n",
            "During handling of the above exception, another exception occurred:\n",
            "\n",
            "Traceback (most recent call last):\n",
            "  File \"/usr/local/lib/python3.11/dist-packages/IPython/core/interactiveshell.py\", line 2099, in showtraceback\n",
            "    stb = value._render_traceback_()\n",
            "          ^^^^^^^^^^^^^^^^^^^^^^^^\n",
            "AttributeError: 'KeyboardInterrupt' object has no attribute '_render_traceback_'\n",
            "\n",
            "During handling of the above exception, another exception occurred:\n",
            "\n",
            "Traceback (most recent call last):\n",
            "  File \"/usr/local/lib/python3.11/dist-packages/IPython/core/interactiveshell.py\", line 3473, in run_ast_nodes\n",
            "    if (await self.run_code(code, result,  async_=asy)):\n",
            "        ^^^^^^^^^^^^^^^^^^^^^^^^^^^^^^^^^^^^^^^^^^^^^^\n",
            "  File \"/usr/local/lib/python3.11/dist-packages/IPython/core/interactiveshell.py\", line 3575, in run_code\n",
            "    self.showtraceback(running_compiled_code=True)\n",
            "  File \"/usr/local/lib/python3.11/dist-packages/IPython/core/interactiveshell.py\", line 2101, in showtraceback\n",
            "    stb = self.InteractiveTB.structured_traceback(etype,\n",
            "          ^^^^^^^^^^^^^^^^^^^^^^^^^^^^^^^^^^^^^^^^^^^^^^\n",
            "  File \"/usr/local/lib/python3.11/dist-packages/IPython/core/ultratb.py\", line 1367, in structured_traceback\n",
            "    return FormattedTB.structured_traceback(\n",
            "           ^^^^^^^^^^^^^^^^^^^^^^^^^^^^^^^^^\n",
            "  File \"/usr/local/lib/python3.11/dist-packages/IPython/core/ultratb.py\", line 1267, in structured_traceback\n",
            "    return VerboseTB.structured_traceback(\n",
            "           ^^^^^^^^^^^^^^^^^^^^^^^^^^^^^^^\n",
            "  File \"/usr/local/lib/python3.11/dist-packages/IPython/core/ultratb.py\", line 1124, in structured_traceback\n",
            "    formatted_exception = self.format_exception_as_a_whole(etype, evalue, etb, number_of_lines_of_context,\n",
            "                          ^^^^^^^^^^^^^^^^^^^^^^^^^^^^^^^^^^^^^^^^^^^^^^^^^^^^^^^^^^^^^^^^^^^^^^^^^^^^^^^^\n",
            "  File \"/usr/local/lib/python3.11/dist-packages/IPython/core/ultratb.py\", line 1082, in format_exception_as_a_whole\n",
            "    last_unique, recursion_repeat = find_recursion(orig_etype, evalue, records)\n",
            "                                    ^^^^^^^^^^^^^^^^^^^^^^^^^^^^^^^^^^^^^^^^^^^\n",
            "  File \"/usr/local/lib/python3.11/dist-packages/IPython/core/ultratb.py\", line 382, in find_recursion\n",
            "    return len(records), 0\n",
            "           ^^^^^^^^^^^^\n",
            "TypeError: object of type 'NoneType' has no len()\n",
            "\n",
            "During handling of the above exception, another exception occurred:\n",
            "\n",
            "Traceback (most recent call last):\n",
            "  File \"/usr/local/lib/python3.11/dist-packages/IPython/core/interactiveshell.py\", line 2099, in showtraceback\n",
            "    stb = value._render_traceback_()\n",
            "          ^^^^^^^^^^^^^^^^^^^^^^^^\n",
            "AttributeError: 'TypeError' object has no attribute '_render_traceback_'\n",
            "\n",
            "During handling of the above exception, another exception occurred:\n",
            "\n",
            "Traceback (most recent call last):\n",
            "  File \"/usr/local/lib/python3.11/dist-packages/IPython/core/interactiveshell.py\", line 3030, in _run_cell\n",
            "    return runner(coro)\n",
            "           ^^^^^^^^^^^^\n",
            "  File \"/usr/local/lib/python3.11/dist-packages/IPython/core/async_helpers.py\", line 78, in _pseudo_sync_runner\n",
            "    coro.send(None)\n",
            "  File \"/usr/local/lib/python3.11/dist-packages/IPython/core/interactiveshell.py\", line 3257, in run_cell_async\n",
            "    has_raised = await self.run_ast_nodes(code_ast.body, cell_name,\n",
            "                 ^^^^^^^^^^^^^^^^^^^^^^^^^^^^^^^^^^^^^^^^^^^^^^^^^^\n",
            "  File \"/usr/local/lib/python3.11/dist-packages/IPython/core/interactiveshell.py\", line 3492, in run_ast_nodes\n",
            "    self.showtraceback()\n",
            "  File \"/usr/local/lib/python3.11/dist-packages/IPython/core/interactiveshell.py\", line 2101, in showtraceback\n",
            "    stb = self.InteractiveTB.structured_traceback(etype,\n",
            "          ^^^^^^^^^^^^^^^^^^^^^^^^^^^^^^^^^^^^^^^^^^^^^^\n",
            "  File \"/usr/local/lib/python3.11/dist-packages/IPython/core/ultratb.py\", line 1367, in structured_traceback\n",
            "    return FormattedTB.structured_traceback(\n",
            "           ^^^^^^^^^^^^^^^^^^^^^^^^^^^^^^^^^\n",
            "  File \"/usr/local/lib/python3.11/dist-packages/IPython/core/ultratb.py\", line 1267, in structured_traceback\n",
            "    return VerboseTB.structured_traceback(\n",
            "           ^^^^^^^^^^^^^^^^^^^^^^^^^^^^^^^\n",
            "  File \"/usr/local/lib/python3.11/dist-packages/IPython/core/ultratb.py\", line 1142, in structured_traceback\n",
            "    formatted_exceptions += self.format_exception_as_a_whole(etype, evalue, etb, lines_of_context,\n",
            "                            ^^^^^^^^^^^^^^^^^^^^^^^^^^^^^^^^^^^^^^^^^^^^^^^^^^^^^^^^^^^^^^^^^^^^^^\n",
            "  File \"/usr/local/lib/python3.11/dist-packages/IPython/core/ultratb.py\", line 1082, in format_exception_as_a_whole\n",
            "    last_unique, recursion_repeat = find_recursion(orig_etype, evalue, records)\n",
            "                                    ^^^^^^^^^^^^^^^^^^^^^^^^^^^^^^^^^^^^^^^^^^^\n",
            "  File \"/usr/local/lib/python3.11/dist-packages/IPython/core/ultratb.py\", line 382, in find_recursion\n",
            "    return len(records), 0\n",
            "           ^^^^^^^^^^^^\n",
            "TypeError: object of type 'NoneType' has no len()\n",
            "\n",
            "During handling of the above exception, another exception occurred:\n",
            "\n",
            "Traceback (most recent call last):\n",
            "  File \"/usr/local/lib/python3.11/dist-packages/IPython/core/interactiveshell.py\", line 2099, in showtraceback\n",
            "    stb = value._render_traceback_()\n",
            "          ^^^^^^^^^^^^^^^^^^^^^^^^\n",
            "AttributeError: 'TypeError' object has no attribute '_render_traceback_'\n",
            "\n",
            "During handling of the above exception, another exception occurred:\n",
            "\n",
            "Traceback (most recent call last):\n",
            "  File \"/usr/local/lib/python3.11/dist-packages/IPython/core/ultratb.py\", line 1101, in get_records\n",
            "    return _fixed_getinnerframes(etb, number_of_lines_of_context, tb_offset)\n",
            "           ^^^^^^^^^^^^^^^^^^^^^^^^^^^^^^^^^^^^^^^^^^^^^^^^^^^^^^^^^^^^^^^^^\n",
            "  File \"/usr/local/lib/python3.11/dist-packages/IPython/core/ultratb.py\", line 248, in wrapped\n",
            "    return f(*args, **kwargs)\n",
            "           ^^^^^^^^^^^^^^^^^^\n",
            "  File \"/usr/local/lib/python3.11/dist-packages/IPython/core/ultratb.py\", line 281, in _fixed_getinnerframes\n",
            "    records = fix_frame_records_filenames(inspect.getinnerframes(etb, context))\n",
            "                                          ^^^^^^^^^^^^^^^^^^^^^^^^^^^^^^^^^^^^\n",
            "  File \"/usr/lib/python3.11/inspect.py\", line 1739, in getinnerframes\n",
            "    traceback_info = getframeinfo(tb, context)\n",
            "                     ^^^^^^^^^^^^^^^^^^^^^^^^^\n",
            "  File \"/usr/lib/python3.11/inspect.py\", line 1686, in getframeinfo\n",
            "    start = lineno - 1 - context//2\n",
            "            ~~~~~~~^~~\n",
            "TypeError: unsupported operand type(s) for -: 'NoneType' and 'int'\n"
          ]
        }
      ],
      "source": [
        "data_filtered = Bombing_Operations.filter( lambda x : x[column_indices['ContryFlyingMission']] == 'UNITED STATES OF AMERICA'\n",
        "    # YOUR CODE HERE\n",
        "    )\n",
        "print(data_filtered.count().compute())\n",
        "# should output 3708997"
      ]
    },
    {
      "cell_type": "code",
      "execution_count": null,
      "metadata": {
        "id": "5eBJgkg1sHrI"
      },
      "outputs": [],
      "source": [
        "assert data_filtered.count().compute() == 3708997"
      ]
    },
    {
      "cell_type": "markdown",
      "metadata": {
        "id": "LLan66cXSagf"
      },
      "source": [
        "### Problem 5 (15 points): Show the unique countries targetted in missions on 1972-12-26"
      ]
    },
    {
      "cell_type": "code",
      "execution_count": null,
      "metadata": {
        "colab": {
          "background_save": true,
          "base_uri": "https://localhost:8080/"
        },
        "id": "BXNKt5PHSagf",
        "outputId": "406d51e3-0096-4666-cddd-0b06bff0f38d"
      },
      "outputs": [
        {
          "name": "stderr",
          "output_type": "stream",
          "text": [
            "ERROR:root:Internal Python error in the inspect module.\n",
            "Below is the traceback from this internal error.\n",
            "\n",
            "ERROR:root:Internal Python error in the inspect module.\n",
            "Below is the traceback from this internal error.\n",
            "\n"
          ]
        },
        {
          "name": "stdout",
          "output_type": "stream",
          "text": [
            "Traceback (most recent call last):\n",
            "  File \"/usr/local/lib/python3.11/dist-packages/IPython/core/interactiveshell.py\", line 3553, in run_code\n",
            "    exec(code_obj, self.user_global_ns, self.user_ns)\n",
            "  File \"<ipython-input-89-5a86f3d16730>\", line 8, in <cell line: 0>\n",
            "    print(target_countries.distinct().compute())\n",
            "          ^^^^^^^^^^^^^^^^^^^^^^^^^^^^^^^^^^^^^\n",
            "  File \"/usr/local/lib/python3.11/dist-packages/dask/base.py\", line 372, in compute\n",
            "    (result,) = compute(self, traverse=False, **kwargs)\n",
            "                ^^^^^^^^^^^^^^^^^^^^^^^^^^^^^^^^^^^^^^^\n",
            "  File \"/usr/local/lib/python3.11/dist-packages/dask/base.py\", line 653, in compute\n",
            "    dsk = collections_to_dsk(collections, optimize_graph, **kwargs)\n",
            "          ^^^^^^^^^^^^^^^^^^^^^^^^^^^^^^^^^^^^^^^^^^^^^^^^^^^^^^^^^\n",
            "  File \"/usr/local/lib/python3.11/dist-packages/dask/base.py\", line 422, in collections_to_dsk\n",
            "    dsk = opt(dsk, keys, **kwargs)\n",
            "          ^^^^^^^^^^^^^^^^^^^^^^^^\n",
            "  File \"/usr/local/lib/python3.11/dist-packages/dask/bag/core.py\", line 154, in optimize\n",
            "    dsk4 = inline_singleton_lists(dsk3, keys, dependencies)\n",
            "           ^^^^^^^^^^^^^^^^^^^^^^^^^^^^^^^^^^^^^^^^^^^^^^^^\n",
            "  File \"/usr/local/lib/python3.11/dist-packages/dask/bag/core.py\", line 140, in inline_singleton_lists\n",
            "    dsk = inline(dsk, inline_keys, inline_constants=False)\n",
            "          ^^^^^^^^^^^^^^^^^^^^^^^^^^^^^^^^^^^^^^^^^^^^^^^^\n",
            "  File \"/usr/local/lib/python3.11/dist-packages/dask/optimization.py\", line 277, in inline\n",
            "    dependencies = {k: get_dependencies(dsk, k) for k in dsk}\n",
            "                   ^^^^^^^^^^^^^^^^^^^^^^^^^^^^^^^^^^^^^^^^^^\n",
            "  File \"/usr/local/lib/python3.11/dist-packages/dask/optimization.py\", line 277, in <dictcomp>\n",
            "    dependencies = {k: get_dependencies(dsk, k) for k in dsk}\n",
            "                       ^^^^^^^^^^^^^^^^^^^^^^^^\n",
            "  File \"/usr/local/lib/python3.11/dist-packages/dask/core.py\", line 314, in get_dependencies\n",
            "    return keys_in_tasks(dsk, [arg], as_list=as_list)\n",
            "           ^^^^^^^^^^^^^^^^^^^^^^^^^^^^^^^^^^^^^^^^^^\n",
            "  File \"/usr/local/lib/python3.11/dist-packages/dask/core.py\", line None, in keys_in_tasks\n",
            "KeyboardInterrupt\n",
            "\n",
            "During handling of the above exception, another exception occurred:\n",
            "\n",
            "Traceback (most recent call last):\n",
            "  File \"/usr/local/lib/python3.11/dist-packages/IPython/core/interactiveshell.py\", line 2099, in showtraceback\n",
            "    stb = value._render_traceback_()\n",
            "          ^^^^^^^^^^^^^^^^^^^^^^^^\n",
            "AttributeError: 'KeyboardInterrupt' object has no attribute '_render_traceback_'\n",
            "\n",
            "During handling of the above exception, another exception occurred:\n",
            "\n",
            "Traceback (most recent call last):\n",
            "  File \"/usr/local/lib/python3.11/dist-packages/IPython/core/ultratb.py\", line 1101, in get_records\n",
            "    return _fixed_getinnerframes(etb, number_of_lines_of_context, tb_offset)\n",
            "           ^^^^^^^^^^^^^^^^^^^^^^^^^^^^^^^^^^^^^^^^^^^^^^^^^^^^^^^^^^^^^^^^^\n",
            "  File \"/usr/local/lib/python3.11/dist-packages/IPython/core/ultratb.py\", line 248, in wrapped\n",
            "    return f(*args, **kwargs)\n",
            "           ^^^^^^^^^^^^^^^^^^\n",
            "  File \"/usr/local/lib/python3.11/dist-packages/IPython/core/ultratb.py\", line 281, in _fixed_getinnerframes\n",
            "    records = fix_frame_records_filenames(inspect.getinnerframes(etb, context))\n",
            "                                          ^^^^^^^^^^^^^^^^^^^^^^^^^^^^^^^^^^^^\n",
            "  File \"/usr/lib/python3.11/inspect.py\", line 1739, in getinnerframes\n",
            "    traceback_info = getframeinfo(tb, context)\n",
            "                     ^^^^^^^^^^^^^^^^^^^^^^^^^\n",
            "  File \"/usr/lib/python3.11/inspect.py\", line 1686, in getframeinfo\n",
            "    start = lineno - 1 - context//2\n",
            "            ~~~~~~~^~~\n",
            "TypeError: unsupported operand type(s) for -: 'NoneType' and 'int'\n",
            "Traceback (most recent call last):\n",
            "  File \"/usr/local/lib/python3.11/dist-packages/IPython/core/interactiveshell.py\", line 3553, in run_code\n",
            "    exec(code_obj, self.user_global_ns, self.user_ns)\n",
            "  File \"<ipython-input-89-5a86f3d16730>\", line 8, in <cell line: 0>\n",
            "    print(target_countries.distinct().compute())\n",
            "          ^^^^^^^^^^^^^^^^^^^^^^^^^^^^^^^^^^^^^\n",
            "  File \"/usr/local/lib/python3.11/dist-packages/dask/base.py\", line 372, in compute\n",
            "    (result,) = compute(self, traverse=False, **kwargs)\n",
            "                ^^^^^^^^^^^^^^^^^^^^^^^^^^^^^^^^^^^^^^^\n",
            "  File \"/usr/local/lib/python3.11/dist-packages/dask/base.py\", line 653, in compute\n",
            "    dsk = collections_to_dsk(collections, optimize_graph, **kwargs)\n",
            "          ^^^^^^^^^^^^^^^^^^^^^^^^^^^^^^^^^^^^^^^^^^^^^^^^^^^^^^^^^\n",
            "  File \"/usr/local/lib/python3.11/dist-packages/dask/base.py\", line 422, in collections_to_dsk\n",
            "    dsk = opt(dsk, keys, **kwargs)\n",
            "          ^^^^^^^^^^^^^^^^^^^^^^^^\n",
            "  File \"/usr/local/lib/python3.11/dist-packages/dask/bag/core.py\", line 154, in optimize\n",
            "    dsk4 = inline_singleton_lists(dsk3, keys, dependencies)\n",
            "           ^^^^^^^^^^^^^^^^^^^^^^^^^^^^^^^^^^^^^^^^^^^^^^^^\n",
            "  File \"/usr/local/lib/python3.11/dist-packages/dask/bag/core.py\", line 140, in inline_singleton_lists\n",
            "    dsk = inline(dsk, inline_keys, inline_constants=False)\n",
            "          ^^^^^^^^^^^^^^^^^^^^^^^^^^^^^^^^^^^^^^^^^^^^^^^^\n",
            "  File \"/usr/local/lib/python3.11/dist-packages/dask/optimization.py\", line 277, in inline\n",
            "    dependencies = {k: get_dependencies(dsk, k) for k in dsk}\n",
            "                   ^^^^^^^^^^^^^^^^^^^^^^^^^^^^^^^^^^^^^^^^^^\n",
            "  File \"/usr/local/lib/python3.11/dist-packages/dask/optimization.py\", line 277, in <dictcomp>\n",
            "    dependencies = {k: get_dependencies(dsk, k) for k in dsk}\n",
            "                       ^^^^^^^^^^^^^^^^^^^^^^^^\n",
            "  File \"/usr/local/lib/python3.11/dist-packages/dask/core.py\", line 314, in get_dependencies\n",
            "    return keys_in_tasks(dsk, [arg], as_list=as_list)\n",
            "           ^^^^^^^^^^^^^^^^^^^^^^^^^^^^^^^^^^^^^^^^^^\n",
            "  File \"/usr/local/lib/python3.11/dist-packages/dask/core.py\", line None, in keys_in_tasks\n",
            "KeyboardInterrupt\n",
            "\n",
            "During handling of the above exception, another exception occurred:\n",
            "\n",
            "Traceback (most recent call last):\n",
            "  File \"/usr/local/lib/python3.11/dist-packages/IPython/core/interactiveshell.py\", line 2099, in showtraceback\n",
            "    stb = value._render_traceback_()\n",
            "          ^^^^^^^^^^^^^^^^^^^^^^^^\n",
            "AttributeError: 'KeyboardInterrupt' object has no attribute '_render_traceback_'\n",
            "\n",
            "During handling of the above exception, another exception occurred:\n",
            "\n",
            "Traceback (most recent call last):\n",
            "  File \"/usr/local/lib/python3.11/dist-packages/IPython/core/interactiveshell.py\", line 3473, in run_ast_nodes\n",
            "    if (await self.run_code(code, result,  async_=asy)):\n",
            "        ^^^^^^^^^^^^^^^^^^^^^^^^^^^^^^^^^^^^^^^^^^^^^^\n",
            "  File \"/usr/local/lib/python3.11/dist-packages/IPython/core/interactiveshell.py\", line 3575, in run_code\n",
            "    self.showtraceback(running_compiled_code=True)\n",
            "  File \"/usr/local/lib/python3.11/dist-packages/IPython/core/interactiveshell.py\", line 2101, in showtraceback\n",
            "    stb = self.InteractiveTB.structured_traceback(etype,\n",
            "          ^^^^^^^^^^^^^^^^^^^^^^^^^^^^^^^^^^^^^^^^^^^^^^\n",
            "  File \"/usr/local/lib/python3.11/dist-packages/IPython/core/ultratb.py\", line 1367, in structured_traceback\n",
            "    return FormattedTB.structured_traceback(\n",
            "           ^^^^^^^^^^^^^^^^^^^^^^^^^^^^^^^^^\n",
            "  File \"/usr/local/lib/python3.11/dist-packages/IPython/core/ultratb.py\", line 1267, in structured_traceback\n",
            "    return VerboseTB.structured_traceback(\n",
            "           ^^^^^^^^^^^^^^^^^^^^^^^^^^^^^^^\n",
            "  File \"/usr/local/lib/python3.11/dist-packages/IPython/core/ultratb.py\", line 1124, in structured_traceback\n",
            "    formatted_exception = self.format_exception_as_a_whole(etype, evalue, etb, number_of_lines_of_context,\n",
            "                          ^^^^^^^^^^^^^^^^^^^^^^^^^^^^^^^^^^^^^^^^^^^^^^^^^^^^^^^^^^^^^^^^^^^^^^^^^^^^^^^^\n",
            "  File \"/usr/local/lib/python3.11/dist-packages/IPython/core/ultratb.py\", line 1082, in format_exception_as_a_whole\n",
            "    last_unique, recursion_repeat = find_recursion(orig_etype, evalue, records)\n",
            "                                    ^^^^^^^^^^^^^^^^^^^^^^^^^^^^^^^^^^^^^^^^^^^\n",
            "  File \"/usr/local/lib/python3.11/dist-packages/IPython/core/ultratb.py\", line 382, in find_recursion\n",
            "    return len(records), 0\n",
            "           ^^^^^^^^^^^^\n"
          ]
        },
        {
          "name": "stderr",
          "output_type": "stream",
          "text": [
            "ERROR:root:Internal Python error in the inspect module.\n",
            "Below is the traceback from this internal error.\n",
            "\n"
          ]
        },
        {
          "name": "stdout",
          "output_type": "stream",
          "text": [
            "TypeError: object of type 'NoneType' has no len()\n",
            "\n",
            "During handling of the above exception, another exception occurred:\n",
            "\n",
            "Traceback (most recent call last):\n",
            "  File \"/usr/local/lib/python3.11/dist-packages/IPython/core/interactiveshell.py\", line 2099, in showtraceback\n",
            "    stb = value._render_traceback_()\n",
            "          ^^^^^^^^^^^^^^^^^^^^^^^^\n",
            "AttributeError: 'TypeError' object has no attribute '_render_traceback_'\n",
            "\n",
            "During handling of the above exception, another exception occurred:\n",
            "\n",
            "Traceback (most recent call last):\n",
            "  File \"/usr/local/lib/python3.11/dist-packages/IPython/core/ultratb.py\", line 1101, in get_records\n",
            "    return _fixed_getinnerframes(etb, number_of_lines_of_context, tb_offset)\n",
            "           ^^^^^^^^^^^^^^^^^^^^^^^^^^^^^^^^^^^^^^^^^^^^^^^^^^^^^^^^^^^^^^^^^\n",
            "  File \"/usr/local/lib/python3.11/dist-packages/IPython/core/ultratb.py\", line 248, in wrapped\n",
            "    return f(*args, **kwargs)\n",
            "           ^^^^^^^^^^^^^^^^^^\n",
            "  File \"/usr/local/lib/python3.11/dist-packages/IPython/core/ultratb.py\", line 281, in _fixed_getinnerframes\n",
            "    records = fix_frame_records_filenames(inspect.getinnerframes(etb, context))\n",
            "                                          ^^^^^^^^^^^^^^^^^^^^^^^^^^^^^^^^^^^^\n",
            "  File \"/usr/lib/python3.11/inspect.py\", line 1739, in getinnerframes\n",
            "    traceback_info = getframeinfo(tb, context)\n",
            "                     ^^^^^^^^^^^^^^^^^^^^^^^^^\n",
            "  File \"/usr/lib/python3.11/inspect.py\", line 1686, in getframeinfo\n",
            "    start = lineno - 1 - context//2\n",
            "            ~~~~~~~^~~\n",
            "TypeError: unsupported operand type(s) for -: 'NoneType' and 'int'\n",
            "Traceback (most recent call last):\n",
            "  File \"/usr/local/lib/python3.11/dist-packages/IPython/core/interactiveshell.py\", line 3553, in run_code\n",
            "    exec(code_obj, self.user_global_ns, self.user_ns)\n",
            "  File \"<ipython-input-89-5a86f3d16730>\", line 8, in <cell line: 0>\n",
            "    print(target_countries.distinct().compute())\n",
            "          ^^^^^^^^^^^^^^^^^^^^^^^^^^^^^^^^^^^^^\n",
            "  File \"/usr/local/lib/python3.11/dist-packages/dask/base.py\", line 372, in compute\n",
            "    (result,) = compute(self, traverse=False, **kwargs)\n",
            "                ^^^^^^^^^^^^^^^^^^^^^^^^^^^^^^^^^^^^^^^\n",
            "  File \"/usr/local/lib/python3.11/dist-packages/dask/base.py\", line 653, in compute\n",
            "    dsk = collections_to_dsk(collections, optimize_graph, **kwargs)\n",
            "          ^^^^^^^^^^^^^^^^^^^^^^^^^^^^^^^^^^^^^^^^^^^^^^^^^^^^^^^^^\n",
            "  File \"/usr/local/lib/python3.11/dist-packages/dask/base.py\", line 422, in collections_to_dsk\n",
            "    dsk = opt(dsk, keys, **kwargs)\n",
            "          ^^^^^^^^^^^^^^^^^^^^^^^^\n",
            "  File \"/usr/local/lib/python3.11/dist-packages/dask/bag/core.py\", line 154, in optimize\n",
            "    dsk4 = inline_singleton_lists(dsk3, keys, dependencies)\n",
            "           ^^^^^^^^^^^^^^^^^^^^^^^^^^^^^^^^^^^^^^^^^^^^^^^^\n",
            "  File \"/usr/local/lib/python3.11/dist-packages/dask/bag/core.py\", line 140, in inline_singleton_lists\n",
            "    dsk = inline(dsk, inline_keys, inline_constants=False)\n",
            "          ^^^^^^^^^^^^^^^^^^^^^^^^^^^^^^^^^^^^^^^^^^^^^^^^\n",
            "  File \"/usr/local/lib/python3.11/dist-packages/dask/optimization.py\", line 277, in inline\n",
            "    dependencies = {k: get_dependencies(dsk, k) for k in dsk}\n",
            "                   ^^^^^^^^^^^^^^^^^^^^^^^^^^^^^^^^^^^^^^^^^^\n",
            "  File \"/usr/local/lib/python3.11/dist-packages/dask/optimization.py\", line 277, in <dictcomp>\n",
            "    dependencies = {k: get_dependencies(dsk, k) for k in dsk}\n",
            "                       ^^^^^^^^^^^^^^^^^^^^^^^^\n",
            "  File \"/usr/local/lib/python3.11/dist-packages/dask/core.py\", line 314, in get_dependencies\n",
            "    return keys_in_tasks(dsk, [arg], as_list=as_list)\n",
            "           ^^^^^^^^^^^^^^^^^^^^^^^^^^^^^^^^^^^^^^^^^^\n",
            "  File \"/usr/local/lib/python3.11/dist-packages/dask/core.py\", line None, in keys_in_tasks\n",
            "KeyboardInterrupt\n",
            "\n",
            "During handling of the above exception, another exception occurred:\n",
            "\n",
            "Traceback (most recent call last):\n",
            "  File \"/usr/local/lib/python3.11/dist-packages/IPython/core/interactiveshell.py\", line 2099, in showtraceback\n",
            "    stb = value._render_traceback_()\n",
            "          ^^^^^^^^^^^^^^^^^^^^^^^^\n",
            "AttributeError: 'KeyboardInterrupt' object has no attribute '_render_traceback_'\n",
            "\n",
            "During handling of the above exception, another exception occurred:\n",
            "\n",
            "Traceback (most recent call last):\n",
            "  File \"/usr/local/lib/python3.11/dist-packages/IPython/core/interactiveshell.py\", line 3473, in run_ast_nodes\n",
            "    if (await self.run_code(code, result,  async_=asy)):\n",
            "        ^^^^^^^^^^^^^^^^^^^^^^^^^^^^^^^^^^^^^^^^^^^^^^\n",
            "  File \"/usr/local/lib/python3.11/dist-packages/IPython/core/interactiveshell.py\", line 3575, in run_code\n",
            "    self.showtraceback(running_compiled_code=True)\n",
            "  File \"/usr/local/lib/python3.11/dist-packages/IPython/core/interactiveshell.py\", line 2101, in showtraceback\n",
            "    stb = self.InteractiveTB.structured_traceback(etype,\n",
            "          ^^^^^^^^^^^^^^^^^^^^^^^^^^^^^^^^^^^^^^^^^^^^^^\n",
            "  File \"/usr/local/lib/python3.11/dist-packages/IPython/core/ultratb.py\", line 1367, in structured_traceback\n",
            "    return FormattedTB.structured_traceback(\n",
            "           ^^^^^^^^^^^^^^^^^^^^^^^^^^^^^^^^^\n",
            "  File \"/usr/local/lib/python3.11/dist-packages/IPython/core/ultratb.py\", line 1267, in structured_traceback\n",
            "    return VerboseTB.structured_traceback(\n",
            "           ^^^^^^^^^^^^^^^^^^^^^^^^^^^^^^^\n",
            "  File \"/usr/local/lib/python3.11/dist-packages/IPython/core/ultratb.py\", line 1124, in structured_traceback\n",
            "    formatted_exception = self.format_exception_as_a_whole(etype, evalue, etb, number_of_lines_of_context,\n",
            "                          ^^^^^^^^^^^^^^^^^^^^^^^^^^^^^^^^^^^^^^^^^^^^^^^^^^^^^^^^^^^^^^^^^^^^^^^^^^^^^^^^\n",
            "  File \"/usr/local/lib/python3.11/dist-packages/IPython/core/ultratb.py\", line 1082, in format_exception_as_a_whole\n",
            "    last_unique, recursion_repeat = find_recursion(orig_etype, evalue, records)\n",
            "                                    ^^^^^^^^^^^^^^^^^^^^^^^^^^^^^^^^^^^^^^^^^^^\n",
            "  File \"/usr/local/lib/python3.11/dist-packages/IPython/core/ultratb.py\", line 382, in find_recursion\n",
            "    return len(records), 0\n",
            "           ^^^^^^^^^^^^\n",
            "TypeError: object of type 'NoneType' has no len()\n",
            "\n",
            "During handling of the above exception, another exception occurred:\n",
            "\n",
            "Traceback (most recent call last):\n",
            "  File \"/usr/local/lib/python3.11/dist-packages/IPython/core/interactiveshell.py\", line 2099, in showtraceback\n",
            "    stb = value._render_traceback_()\n",
            "          ^^^^^^^^^^^^^^^^^^^^^^^^\n",
            "AttributeError: 'TypeError' object has no attribute '_render_traceback_'\n",
            "\n",
            "During handling of the above exception, another exception occurred:\n",
            "\n",
            "Traceback (most recent call last):\n",
            "  File \"/usr/local/lib/python3.11/dist-packages/IPython/core/interactiveshell.py\", line 3030, in _run_cell\n",
            "    return runner(coro)\n",
            "           ^^^^^^^^^^^^\n",
            "  File \"/usr/local/lib/python3.11/dist-packages/IPython/core/async_helpers.py\", line 78, in _pseudo_sync_runner\n",
            "    coro.send(None)\n",
            "  File \"/usr/local/lib/python3.11/dist-packages/IPython/core/interactiveshell.py\", line 3257, in run_cell_async\n",
            "    has_raised = await self.run_ast_nodes(code_ast.body, cell_name,\n",
            "                 ^^^^^^^^^^^^^^^^^^^^^^^^^^^^^^^^^^^^^^^^^^^^^^^^^^\n",
            "  File \"/usr/local/lib/python3.11/dist-packages/IPython/core/interactiveshell.py\", line 3492, in run_ast_nodes\n",
            "    self.showtraceback()\n",
            "  File \"/usr/local/lib/python3.11/dist-packages/IPython/core/interactiveshell.py\", line 2101, in showtraceback\n",
            "    stb = self.InteractiveTB.structured_traceback(etype,\n",
            "          ^^^^^^^^^^^^^^^^^^^^^^^^^^^^^^^^^^^^^^^^^^^^^^\n",
            "  File \"/usr/local/lib/python3.11/dist-packages/IPython/core/ultratb.py\", line 1367, in structured_traceback\n",
            "    return FormattedTB.structured_traceback(\n",
            "           ^^^^^^^^^^^^^^^^^^^^^^^^^^^^^^^^^\n",
            "  File \"/usr/local/lib/python3.11/dist-packages/IPython/core/ultratb.py\", line 1267, in structured_traceback\n",
            "    return VerboseTB.structured_traceback(\n",
            "           ^^^^^^^^^^^^^^^^^^^^^^^^^^^^^^^\n",
            "  File \"/usr/local/lib/python3.11/dist-packages/IPython/core/ultratb.py\", line 1142, in structured_traceback\n",
            "    formatted_exceptions += self.format_exception_as_a_whole(etype, evalue, etb, lines_of_context,\n",
            "                            ^^^^^^^^^^^^^^^^^^^^^^^^^^^^^^^^^^^^^^^^^^^^^^^^^^^^^^^^^^^^^^^^^^^^^^\n",
            "  File \"/usr/local/lib/python3.11/dist-packages/IPython/core/ultratb.py\", line 1082, in format_exception_as_a_whole\n",
            "    last_unique, recursion_repeat = find_recursion(orig_etype, evalue, records)\n",
            "                                    ^^^^^^^^^^^^^^^^^^^^^^^^^^^^^^^^^^^^^^^^^^^\n",
            "  File \"/usr/local/lib/python3.11/dist-packages/IPython/core/ultratb.py\", line 382, in find_recursion\n",
            "    return len(records), 0\n",
            "           ^^^^^^^^^^^^\n",
            "TypeError: object of type 'NoneType' has no len()\n",
            "\n",
            "During handling of the above exception, another exception occurred:\n",
            "\n",
            "Traceback (most recent call last):\n",
            "  File \"/usr/local/lib/python3.11/dist-packages/IPython/core/interactiveshell.py\", line 2099, in showtraceback\n",
            "    stb = value._render_traceback_()\n",
            "          ^^^^^^^^^^^^^^^^^^^^^^^^\n",
            "AttributeError: 'TypeError' object has no attribute '_render_traceback_'\n",
            "\n",
            "During handling of the above exception, another exception occurred:\n",
            "\n",
            "Traceback (most recent call last):\n",
            "  File \"/usr/local/lib/python3.11/dist-packages/IPython/core/ultratb.py\", line 1101, in get_records\n",
            "    return _fixed_getinnerframes(etb, number_of_lines_of_context, tb_offset)\n",
            "           ^^^^^^^^^^^^^^^^^^^^^^^^^^^^^^^^^^^^^^^^^^^^^^^^^^^^^^^^^^^^^^^^^\n",
            "  File \"/usr/local/lib/python3.11/dist-packages/IPython/core/ultratb.py\", line 248, in wrapped\n",
            "    return f(*args, **kwargs)\n",
            "           ^^^^^^^^^^^^^^^^^^\n",
            "  File \"/usr/local/lib/python3.11/dist-packages/IPython/core/ultratb.py\", line 281, in _fixed_getinnerframes\n",
            "    records = fix_frame_records_filenames(inspect.getinnerframes(etb, context))\n",
            "                                          ^^^^^^^^^^^^^^^^^^^^^^^^^^^^^^^^^^^^\n",
            "  File \"/usr/lib/python3.11/inspect.py\", line 1739, in getinnerframes\n",
            "    traceback_info = getframeinfo(tb, context)\n",
            "                     ^^^^^^^^^^^^^^^^^^^^^^^^^\n",
            "  File \"/usr/lib/python3.11/inspect.py\", line 1686, in getframeinfo\n",
            "    start = lineno - 1 - context//2\n",
            "            ~~~~~~~^~~\n",
            "TypeError: unsupported operand type(s) for -: 'NoneType' and 'int'\n"
          ]
        }
      ],
      "source": [
        "dec26 = Bombing_Operations.filter(lambda x : x[column_indices['MissionDate']] == '1972-12-26'\n",
        "    # YOUR CODE HERE\n",
        "    )\n",
        "target_countries = dec26.map( lambda x: x[column_indices['TargetCountry']]\n",
        "    # YOUR CODE HERE\n",
        "    )\n",
        "\n",
        "print(target_countries.distinct().compute())\n",
        "# should output ['SOUTH VIETNAM', 'NORTH VIETNAM', 'LAOS', 'CAMBODIA', 'THAILAND']\n"
      ]
    },
    {
      "cell_type": "code",
      "execution_count": null,
      "metadata": {
        "id": "7KbwXGMmsHrI"
      },
      "outputs": [],
      "source": [
        "assert target_countries.distinct().compute() == ['SOUTH VIETNAM', 'NORTH VIETNAM', 'LAOS', 'CAMBODIA', 'THAILAND']"
      ]
    },
    {
      "cell_type": "markdown",
      "metadata": {
        "id": "uEwBspLySagp"
      },
      "source": [
        "### Problem 6 (15 points): Who bombed this location?\n",
        "\n",
        "\n",
        "<img style=\"float: right;\" src=\"https://raw.githubusercontent.com/epfl-ada/2019/c17af0d3c73f11cb083717b7408fedd86245dc4d/Tutorials/04%20-%20Scaling%20Up/img/Hanoi_POL1966.jpg\">\n",
        "\n",
        "This picture is the Hanoi POL facility (North Vietnam) burning after it was attacked by the U.S. Air Force on 29 June 1966 in the context of the Rolling Thunder operation.\n",
        "\n",
        "Write two lambda expressions that will help us discover what was the most common take-off location during that day of missions flown by the US (ContryFlyingMission) under OperationSupported of ROLLING THUN."
      ]
    },
    {
      "cell_type": "code",
      "execution_count": null,
      "metadata": {
        "colab": {
          "base_uri": "https://localhost:8080/"
        },
        "id": "uq6jqsgBSagq",
        "outputId": "a4988089-c80c-45bc-bb29-092e908c6987"
      },
      "outputs": [
        {
          "name": "stdout",
          "output_type": "stream",
          "text": [
            "[('DANANG', 23), ('CONSTELLATION', 83), ('UBON AB', 44), ('UDORN AB', 10), ('KORAT', 31), ('TAKHLI', 41), ('RANGER', 33), ('HANCOCK (CVA-19)', 10), ('CUBI PT', 1)]\n"
          ]
        }
      ],
      "source": [
        "import pandas as pd\n",
        "def fillterFunc(x):\n",
        "    if not pd.isna(x[column_indices['OperationSupported']]):\n",
        "        return x[column_indices['MissionDate']] == '1966-06-29' and x[column_indices['ContryFlyingMission']] == 'UNITED STATES OF AMERICA' and x[column_indices['OperationSupported']] == 'ROLLING THUN'\n",
        "    return False\n",
        "\n",
        "\n",
        "\n",
        "jun_29_operations = Bombing_Operations.filter( fillterFunc\n",
        "\n",
        "    # YOUR CODE HERE\n",
        "    )\n",
        "by_takeofflocation = jun_29_operations.foldby(\n",
        "    lambda x: x[column_indices['TakeoffLocation']],\n",
        "    lambda x, y : x + 1,\n",
        "    initial = 0\n",
        "    # YOUR CODE HERE\n",
        "    )\n",
        "print(by_takeofflocation.compute())\n",
        "\n",
        "# should produce a (key, value) list of take-off locations including ('CONSTELLATION', 83)"
      ]
    },
    {
      "cell_type": "code",
      "execution_count": null,
      "metadata": {
        "colab": {
          "base_uri": "https://localhost:8080/"
        },
        "id": "XKCrpMbVtwR5",
        "outputId": "e7405439-a4a8-4736-a920-b3a64336c89b"
      },
      "outputs": [
        {
          "name": "stdout",
          "output_type": "stream",
          "text": [
            "0\n"
          ]
        }
      ],
      "source": [
        "print(jun_29_operations.count().compute())"
      ]
    },
    {
      "cell_type": "code",
      "execution_count": null,
      "metadata": {
        "id": "jAXgnX73sHrI"
      },
      "outputs": [],
      "source": [
        "assert ('CONSTELLATION', 83) in by_takeofflocation.compute()"
      ]
    },
    {
      "cell_type": "markdown",
      "metadata": {
        "id": "cE8asfBPSahD"
      },
      "source": [
        "<img style=\"float: right;\" src=\"https://raw.githubusercontent.com/epfl-ada/2019/c17af0d3c73f11cb083717b7408fedd86245dc4d/Tutorials/04%20-%20Scaling%20Up/img/USS_Constellation.jpg\">\n",
        "\n",
        "\n",
        "That day the most common take-off location was the ship USS Constellation (CV-64). We cannot univocally identify one take off location, but we can reduce the possible candidates.\n",
        "\n",
        "_USS Constellation (CV-64), a Kitty Hawk-class supercarrier, was the third ship of the United States Navy to be named in honor of the \"new constellation of stars\" on the flag of the United States. One of the fastest ships in the Navy, as proven by her victory during a battlegroup race held in 1985, she was nicknamed \"Connie\" by her crew and officially as \"America's Flagship\"._"
      ]
    },
    {
      "cell_type": "markdown",
      "metadata": {
        "id": "aaiVcdF8SahD"
      },
      "source": [
        "### Problem 7 (15 points): What is the most used aircraft during the Vietnam war (number of missions)?\n",
        "\n",
        "In this question you must write your own code \"from scratch\". Hint: if you follow a similar process to problem 6 you can get tuples of the form (aircraft, count). The max function can be used on a tuple but will compare tuples by their elements left to right so you need to be a little creative :)."
      ]
    },
    {
      "cell_type": "code",
      "execution_count": null,
      "metadata": {
        "colab": {
          "base_uri": "https://localhost:8080/"
        },
        "id": "G8m8yeW6l06q",
        "outputId": "c5fd5c81-92f1-4ede-d9be-8f1cbf35fb56"
      },
      "outputs": [
        {
          "name": "stdout",
          "output_type": "stream",
          "text": [
            "(909362, 'F-4')\n"
          ]
        }
      ],
      "source": [
        "aircraft_counts = Bombing_Operations.foldby(\n",
        "    # YOUR CODE HERE\n",
        "    lambda x: x[column_indices['AirCraft']],\n",
        "    lambda x, y : x + 1,\n",
        "    initial = 0\n",
        "    )\n",
        "\n",
        "most_used = aircraft_counts.map(lambda x : (x[1], x[0])).reduction(max, max)\n",
        "print(most_used.compute())\n",
        "\n",
        "# should compute (909362, 'F-4') as the result and assign it to the most_used variable"
      ]
    },
    {
      "cell_type": "code",
      "execution_count": null,
      "metadata": {
        "id": "K2MSA57ZsHrJ"
      },
      "outputs": [],
      "source": [
        "assert most_used.compute() == (909362, 'F-4')"
      ]
    },
    {
      "cell_type": "markdown",
      "metadata": {
        "id": "XKloS3DauZ6h"
      },
      "source": [
        "## Submission\n",
        "You need to complete the quiz on the quiz server (https://quiz2024.csse.canterbury.ac.nz/mod/quiz/view.php?id=1961)."
      ]
    }
  ],
  "metadata": {
    "colab": {
      "machine_shape": "hm",
      "provenance": []
    },
    "kernelspec": {
      "display_name": "Python 3 (ipykernel)",
      "language": "python",
      "name": "python3"
    },
    "language_info": {
      "codemirror_mode": {
        "name": "ipython",
        "version": 3
      },
      "file_extension": ".py",
      "mimetype": "text/x-python",
      "name": "python",
      "nbconvert_exporter": "python",
      "pygments_lexer": "ipython3",
      "version": "3.9.13"
    }
  },
  "nbformat": 4,
  "nbformat_minor": 0
}