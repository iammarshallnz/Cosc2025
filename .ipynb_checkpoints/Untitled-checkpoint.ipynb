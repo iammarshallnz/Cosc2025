{
 "cells": [
  {
   "cell_type": "code",
   "execution_count": null,
   "id": "b1444b64-fe0f-40bb-8323-c78e84ac7086",
   "metadata": {},
   "outputs": [],
   "source": [
    "import pyspark, os\n",
    "from pyspark import SparkConf, SparkContext\n",
    "os.environ[\"PYSPARK_PYTHON\"]=\"python3\"\n",
    "os.environ[\"JAVA_HOME\"]=\"/Program Files/Java/jdk-21/\"\n",
    "\n",
    "import sys, os\n",
    "from operator import add\n",
    "import time\n",
    "\n",
    "os.environ[\"PYSPARK_PYTHON\"]=\"python3\"\n",
    "\n",
    "import pyspark\n",
    "from pyspark import SparkConf, SparkContext\n",
    "\n",
    "#connects our python driver to a local Spark JVM running on the Google Colab server virtual machine\n",
    "try:\n",
    "  conf = SparkConf().setMaster(\"local[*]\").set(\"spark.executor.memory\", \"1g\")\n",
    "  sc = SparkContext(conf = conf)\n",
    "except ValueError:\n",
    "  #it's ok if the server is already started\n",
    "  pass\n"
   ]
  }
 ],
 "metadata": {
  "kernelspec": {
   "display_name": "Python 3 (ipykernel)",
   "language": "python",
   "name": "python3"
  },
  "language_info": {
   "codemirror_mode": {
    "name": "ipython",
    "version": 3
   },
   "file_extension": ".py",
   "mimetype": "text/x-python",
   "name": "python",
   "nbconvert_exporter": "python",
   "pygments_lexer": "ipython3",
   "version": "3.11.1"
  }
 },
 "nbformat": 4,
 "nbformat_minor": 5
}
