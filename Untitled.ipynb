{
 "cells": [
  {
   "cell_type": "code",
   "execution_count": 3,
   "id": "b1444b64-fe0f-40bb-8323-c78e84ac7086",
   "metadata": {},
   "outputs": [],
   "source": [
    "import pyspark, os\n",
    "from pyspark import SparkConf, SparkContext\n",
    "os.environ[\"PYSPARK_PYTHON\"]=\"python3\"\n",
    "os.environ[\"JAVA_HOME\"]=\"/Program Files/Java/jdk-21/\"\n",
    "\n",
    "import sys, os\n",
    "from operator import add\n",
    "import time\n",
    "\n",
    "os.environ[\"PYSPARK_PYTHON\"]=\"python3\"\n",
    "\n",
    "import pyspark\n",
    "from pyspark import SparkConf, SparkContext\n",
    "\n",
    "#connects our python driver to a local Spark JVM running on the Google Colab server virtual machine\n",
    "try:\n",
    "    conf = SparkConf().setMaster(\"local[4]\").set(\"spark.executor.memory\", \"1g\")\n",
    "    sc = SparkContext(conf = conf)\n",
    "    print('hi')\n",
    "except ValueError:\n",
    "  #it's ok if the server is already started\n",
    "    pass\n"
   ]
  },
  {
   "cell_type": "code",
   "execution_count": 5,
   "id": "a1f501b3-382c-4287-94ec-bb0b32c74b0d",
   "metadata": {},
   "outputs": [
    {
     "name": "stdout",
     "output_type": "stream",
     "text": [
      "499500\n",
      "499500\n",
      "499500\n"
     ]
    }
   ],
   "source": [
    "#import the dask and bag library\n",
    "import dask\n",
    "import dask.bag as db\n",
    "import math\n",
    "\n",
    "# First, let's create some simple data, say the integers from 1 to 1000.\n",
    "# We use the python command range to do this.\n",
    "# Note that in practice our data will most likely come from data files.\n",
    "A = range(1000)\n",
    "\n",
    "# Let us start with a simple task of computing the sum of the values in the array:\n",
    "print(sum(A))\n",
    "# Because A is in memory in our Google Colab python instance and sum is a built in python function\n",
    "# this computation is not distributed and instead runs sequentially.\n",
    "\n",
    "# Now let us distribute this data across our processes in a dask bag\n",
    "bA = db.from_sequence(A)\n",
    "\n",
    "# # To sum our distributed array, we call the reduce function with the sum function\n",
    "print(bA.reduction(sum, sum).compute())\n",
    "# # Because the data structure bA was distributed across the available processes, the computation for reduction was also distributed.\n",
    "\n",
    "# Because summing along an array axis is very common, we could simply call the built-in function that does the reduction efficiently\n",
    "print(bA.sum().compute())\n",
    "\n"
   ]
  },
  {
   "cell_type": "code",
   "execution_count": null,
   "id": "d0be18d0-38b0-4da1-9d37-74ba30803c11",
   "metadata": {},
   "outputs": [],
   "source": []
  }
 ],
 "metadata": {
  "kernelspec": {
   "display_name": "Python 3 (ipykernel)",
   "language": "python",
   "name": "python3"
  },
  "language_info": {
   "codemirror_mode": {
    "name": "ipython",
    "version": 3
   },
   "file_extension": ".py",
   "mimetype": "text/x-python",
   "name": "python",
   "nbconvert_exporter": "python",
   "pygments_lexer": "ipython3",
   "version": "3.11.1"
  }
 },
 "nbformat": 4,
 "nbformat_minor": 5
}
